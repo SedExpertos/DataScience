{
 "cells": [
  {
   "cell_type": "code",
   "execution_count": null,
   "id": "e69c81b6",
   "metadata": {},
   "outputs": [],
   "source": [
    "#Import Pandas\n",
    "import pandas as pd"
   ]
  },
  {
   "cell_type": "code",
   "execution_count": null,
   "id": "71f5d4b0",
   "metadata": {},
   "outputs": [],
   "source": [
    "xlData_QA = pd.read_excel(\"xlData_QA.xlsx\")"
   ]
  },
  {
   "cell_type": "code",
   "execution_count": null,
   "id": "b7dd11fb",
   "metadata": {},
   "outputs": [],
   "source": [
    "xlData_account = pd.read_excel(\"xlData_account.xlsx\")"
   ]
  },
  {
   "cell_type": "code",
   "execution_count": null,
   "id": "1a8939d9",
   "metadata": {},
   "outputs": [],
   "source": [
    "xlData_QA"
   ]
  },
  {
   "cell_type": "code",
   "execution_count": null,
   "id": "c1249ef1",
   "metadata": {},
   "outputs": [],
   "source": [
    "xlData_account"
   ]
  },
  {
   "cell_type": "code",
   "execution_count": null,
   "id": "ad916746",
   "metadata": {},
   "outputs": [],
   "source": [
    "print(xlData_account.count)"
   ]
  },
  {
   "cell_type": "code",
   "execution_count": null,
   "id": "2c5bab29",
   "metadata": {},
   "outputs": [],
   "source": [
    "print(xlData_QA.count)"
   ]
  },
  {
   "cell_type": "code",
   "execution_count": null,
   "id": "9ad2d172",
   "metadata": {},
   "outputs": [],
   "source": [
    "xlData_QA.dtypes"
   ]
  },
  {
   "cell_type": "code",
   "execution_count": null,
   "id": "fb3ba2d7",
   "metadata": {},
   "outputs": [],
   "source": [
    "xlData_QA[\"Agent\"]"
   ]
  },
  {
   "cell_type": "code",
   "execution_count": null,
   "id": "48205e66",
   "metadata": {},
   "outputs": [],
   "source": [
    "xlData_account.groupby([\"Name\"]) [\"% Ignored\"].sum()"
   ]
  }
 ],
 "metadata": {
  "kernelspec": {
   "display_name": "Python 3 (ipykernel)",
   "language": "python",
   "name": "python3"
  },
  "language_info": {
   "codemirror_mode": {
    "name": "ipython",
    "version": 3
   },
   "file_extension": ".py",
   "mimetype": "text/x-python",
   "name": "python",
   "nbconvert_exporter": "python",
   "pygments_lexer": "ipython3",
   "version": "3.10.2"
  }
 },
 "nbformat": 4,
 "nbformat_minor": 5
}
