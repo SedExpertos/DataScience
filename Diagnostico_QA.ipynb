{
 "cells": [
  {
   "cell_type": "markdown",
   "id": "7ccadab6",
   "metadata": {},
   "source": [
    "# Test Diagnóstico Data Scientist Jr\n",
    "## Análisis de datos para correlación de QA\n",
    "### Jorge Antonio Jiménez López\n",
    "**21 de febrero, 2022**\n",
    "\n"
   ]
  },
  {
   "cell_type": "markdown",
   "id": "eaf75500",
   "metadata": {},
   "source": [
    "### Procedimiento general\n",
    "1. Limpieza de datos y relación de tablas\n",
    "\n",
    "2. Lectura de valores en el Notebook\n",
    "    2.1 Activar módulos necesarios\n",
    "    2.2 Importar datos en DataSets\n",
    "\n",
    "3. Agrupación de datos y obtención de promedios\n",
    "\n",
    "4. Integrar datos con valores relacionados\n",
    "\n",
    "5. Identificación de variables esperadas\n",
    "    - Calidad >= 85%\n",
    "    - Ignore rate <= 10%\n",
    "    - Rotation rate < 90%\n",
    "    - Taklk Time / AWT Per >= 90%"
   ]
  },
  {
   "cell_type": "code",
   "execution_count": 1,
   "id": "fd00e0ca",
   "metadata": {},
   "outputs": [],
   "source": [
    "# 1.\n",
    "# Limpieza de datos y relación de tablas\n",
    "# Identificar los valores perdidos y buscar los elementos coincidentes"
   ]
  },
  {
   "cell_type": "code",
   "execution_count": 2,
   "id": "1342b603",
   "metadata": {},
   "outputs": [],
   "source": [
    "# 2.\n",
    "# Lectura de valores en el Notebook\n",
    "\n",
    "# 2.1 Módulos necesarios\n",
    "import pandas as pd"
   ]
  },
  {
   "cell_type": "code",
   "execution_count": 3,
   "id": "ada66212",
   "metadata": {},
   "outputs": [],
   "source": [
    "#2.\n",
    "# Lectura de valores en el Notebook\n",
    "\n",
    "# 2.2 Creación de Datasets\n",
    "xl_QA = pd.read_excel(\"xlData_QA.xlsx\")\n",
    "xl_account = pd.read_excel(\"xlData_account.xlsx\")\n",
    "xl_norm = pd.read_excel(\"xlData_QA_norm.xlsx\")"
   ]
  },
  {
   "cell_type": "code",
   "execution_count": 14,
   "id": "2c75c6fd",
   "metadata": {},
   "outputs": [
    {
     "data": {
      "text/html": [
       "<div>\n",
       "<style scoped>\n",
       "    .dataframe tbody tr th:only-of-type {\n",
       "        vertical-align: middle;\n",
       "    }\n",
       "\n",
       "    .dataframe tbody tr th {\n",
       "        vertical-align: top;\n",
       "    }\n",
       "\n",
       "    .dataframe thead th {\n",
       "        text-align: right;\n",
       "    }\n",
       "</style>\n",
       "<table border=\"1\" class=\"dataframe\">\n",
       "  <thead>\n",
       "    <tr style=\"text-align: right;\">\n",
       "      <th></th>\n",
       "      <th></th>\n",
       "      <th>Rot/Log Perc</th>\n",
       "      <th>Talk Time/AWT Perc</th>\n",
       "      <th>% Ignored</th>\n",
       "    </tr>\n",
       "    <tr>\n",
       "      <th>Name</th>\n",
       "      <th>Month</th>\n",
       "      <th></th>\n",
       "      <th></th>\n",
       "      <th></th>\n",
       "    </tr>\n",
       "  </thead>\n",
       "  <tbody>\n",
       "    <tr>\n",
       "      <th rowspan=\"3\" valign=\"top\">Aguayo González Jaime Francisco</th>\n",
       "      <th>December</th>\n",
       "      <td>0.948889</td>\n",
       "      <td>0.899630</td>\n",
       "      <td>0.069263</td>\n",
       "    </tr>\n",
       "    <tr>\n",
       "      <th>January</th>\n",
       "      <td>0.884231</td>\n",
       "      <td>0.916923</td>\n",
       "      <td>0.076148</td>\n",
       "    </tr>\n",
       "    <tr>\n",
       "      <th>November</th>\n",
       "      <td>0.799600</td>\n",
       "      <td>0.391200</td>\n",
       "      <td>0.321691</td>\n",
       "    </tr>\n",
       "    <tr>\n",
       "      <th rowspan=\"2\" valign=\"top\">Chávez Heredia Andrea</th>\n",
       "      <th>December</th>\n",
       "      <td>0.906667</td>\n",
       "      <td>0.932000</td>\n",
       "      <td>0.032588</td>\n",
       "    </tr>\n",
       "    <tr>\n",
       "      <th>November</th>\n",
       "      <td>0.847333</td>\n",
       "      <td>0.806000</td>\n",
       "      <td>0.094607</td>\n",
       "    </tr>\n",
       "  </tbody>\n",
       "</table>\n",
       "</div>"
      ],
      "text/plain": [
       "                                          Rot/Log Perc  Talk Time/AWT Perc  \\\n",
       "Name                            Month                                        \n",
       "Aguayo González Jaime Francisco December      0.948889            0.899630   \n",
       "                                January       0.884231            0.916923   \n",
       "                                November      0.799600            0.391200   \n",
       "Chávez Heredia Andrea           December      0.906667            0.932000   \n",
       "                                November      0.847333            0.806000   \n",
       "\n",
       "                                          % Ignored  \n",
       "Name                            Month                \n",
       "Aguayo González Jaime Francisco December   0.069263  \n",
       "                                January    0.076148  \n",
       "                                November   0.321691  \n",
       "Chávez Heredia Andrea           December   0.032588  \n",
       "                                November   0.094607  "
      ]
     },
     "execution_count": 14,
     "metadata": {},
     "output_type": "execute_result"
    }
   ],
   "source": [
    "#3.\n",
    "# Agrupación de datos y obtención de promedios\n",
    "\n",
    "ds_accMonth = xl_account.groupby([\"Name\", \"Month\"]).mean()\n",
    "ds_accMonth.head(5)\n"
   ]
  },
  {
   "cell_type": "code",
   "execution_count": null,
   "id": "144bc137",
   "metadata": {},
   "outputs": [],
   "source": [
    "#4.\n",
    "# Integrar datos con valores relacionados\n"
   ]
  }
 ],
 "metadata": {
  "kernelspec": {
   "display_name": "Python 3 (ipykernel)",
   "language": "python",
   "name": "python3"
  },
  "language_info": {
   "codemirror_mode": {
    "name": "ipython",
    "version": 3
   },
   "file_extension": ".py",
   "mimetype": "text/x-python",
   "name": "python",
   "nbconvert_exporter": "python",
   "pygments_lexer": "ipython3",
   "version": "3.10.2"
  }
 },
 "nbformat": 4,
 "nbformat_minor": 5
}
