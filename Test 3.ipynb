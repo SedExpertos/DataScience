{
 "cells": [
  {
   "cell_type": "markdown",
   "id": "a9133ab4",
   "metadata": {},
   "source": [
    "# Ejemplo de notebook compartido\n",
    "## Obtener código que se pueda compartir a otros usuarios\n",
    "### Jorge Jiménez - Febrero 2022\n",
    "\n",
    "*Proceso 1: Crear archivo ipynb*\n",
    "\n",
    "**Proceso 2** Crear en Binder"
   ]
  },
  {
   "cell_type": "code",
   "execution_count": null,
   "id": "940f651e",
   "metadata": {},
   "outputs": [],
   "source": [
    "print(\"Este es el bloque 1\")\n",
    "x = 10\n"
   ]
  },
  {
   "cell_type": "code",
   "execution_count": null,
   "id": "ca383f21",
   "metadata": {},
   "outputs": [],
   "source": [
    "print (\"Este es el bloque 2\")\n",
    "print (\"Variable x: \", x)\n"
   ]
  }
 ],
 "metadata": {
  "kernelspec": {
   "display_name": "Python 3 (ipykernel)",
   "language": "python",
   "name": "python3"
  },
  "language_info": {
   "codemirror_mode": {
    "name": "ipython",
    "version": 3
   },
   "file_extension": ".py",
   "mimetype": "text/x-python",
   "name": "python",
   "nbconvert_exporter": "python",
   "pygments_lexer": "ipython3",
   "version": "3.10.2"
  }
 },
 "nbformat": 4,
 "nbformat_minor": 5
}
